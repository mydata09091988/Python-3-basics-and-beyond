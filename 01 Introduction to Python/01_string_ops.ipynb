{
 "cells": [
  {
   "cell_type": "code",
   "execution_count": 2,
   "metadata": {},
   "outputs": [
    {
     "name": "stdout",
     "output_type": "stream",
     "text": [
      "Hello world!\n",
      "HI world!\n",
      "HI world!\n",
      "9\n",
      "I \n",
      "False\n"
     ]
    }
   ],
   "source": [
    "'''\n",
    "Variables are used to store values. A string is a series of characters, surrounded by single or double quotes.\n",
    "'''\n",
    "\n",
    "# Hello world \n",
    "print('Hello world!')\n",
    "\n",
    "# Hello world with a variable \n",
    "greeting = 'HI world!'\n",
    "print(greeting)\n",
    "print(greeting)\n",
    "print(len(greeting))\n",
    "print(greeting[1:3])\n",
    "print('t' in greeting)"
   ]
  },
  {
   "cell_type": "code",
   "execution_count": 4,
   "metadata": {},
   "outputs": [
    {
     "name": "stdout",
     "output_type": "stream",
     "text": [
      "                 this string is not start with other because there are couple of old values needs to replaced by new ones but this string ends with other\n",
      "                 THIS STRING IS NOT START WITH OTHER BECAUSE THERE ARE COUPLE OF OLD VALUES NEEDS TO REPLACED BY NEW ONES BUT THIS STRING ENDS WITH OTHER\n",
      "This string is not start with other because there are couple of old values needs to replaced by new ones but this string ends with other\n",
      "False\n",
      "False\n",
      "False\n",
      "False\n",
      "True\n",
      "47\n",
      "                 This string is not start with other because there are couple of new values needs to replaced by new ones but this string ends with other\n",
      "['', '', '', '', '', '', '', '', '', '', '', '', '', '', '', '', '', 'This', 'string', 'is', 'not', 'start', 'with', 'other', 'because', 'there', 'are', 'couple', 'of', 'old', 'values', 'needs', 'to', 'replaced', 'by', 'new', 'ones', 'but', 'this', 'string', 'ends', 'with', 'other']\n",
      "l i s t\n"
     ]
    }
   ],
   "source": [
    "# String Methods\n",
    "string_methods = '                 This string is not start with other because there are couple of old values needs to replaced by new ones but this string ends with other'\n",
    "print(string_methods.lower()) \t\t\t\t\t# returns the lowercase version of the string\n",
    "print(string_methods.upper()) \t\t\t\t\t# returns the uppercase version of the string\n",
    "print(string_methods.strip()) \t\t\t\t\t# returns a string with whitespace removed from the start and end\n",
    "print(string_methods.isalpha()) \t\t\t\t# tests if all the string chars are in the various character classes\n",
    "print(string_methods.isdigit()) \t\t\t\t# tests if all the string chars are in the various character classes\n",
    "print(string_methods.isspace()) \t\t\t\t# tests if all the string chars are in the various character classes\n",
    "print(string_methods.startswith('other')) \t\t# tests if the string starts with the given other string\n",
    "print(string_methods.endswith('other')) \t\t# tests if the string ends with the given other string\n",
    "print(string_methods.find('other')) \t\t\t# searches for the given other string (not a regular expression) within string_value, and returns the first index where it begins or -1 if not found\n",
    "print(string_methods.replace('old', 'new')) \t# returns a string where all occurrences of 'old' have been replaced by 'new'\n",
    "delim = ' ';\n",
    "print(string_methods.split(delim)) \t\t\t\t# returns a list of substrings separated by the given delimiter\n",
    "print(delim.join(['l', 'i', 's', 't'])) \t\t# opposite of split(), joins the elements in the given list together using the string as the delimiter"
   ]
  },
  {
   "cell_type": "code",
   "execution_count": 14,
   "metadata": {},
   "outputs": [
    {
     "name": "stdout",
     "output_type": "stream",
     "text": [
      "First, thou shalt count to {0}\n",
      "Bring me a {}\n",
      "From {} to {}\n",
      "My name is Adhikari\n",
      "Weight in tons {0.weight}\n",
      "Units destroyed: {players[0]}\n",
      "a, b, c\n",
      "a, b, c\n",
      "c, b, a\n",
      "c, b, a\n",
      "abracadabra\n",
      "Welcome to Python\n",
      "My name is Annie and my age is 22\n"
     ]
    }
   ],
   "source": [
    "# String formating using % operator\n",
    "text = \"%d little pigs come out or I'll %s and %s and %s\" % (3, 'huff', 'puff', 'blow down');\n",
    "name = 'Adhikari'\n",
    "# String formating using Format String Syntax\n",
    "print(\"First, thou shalt count to {0}\") # References first positional argument\n",
    "print(\"Bring me a {}\")                  # Implicitly references the first positional argument\n",
    "print(\"From {} to {}\")                  # Same as \"From {0} to {1}\"\n",
    "print(f\"My name is {name}\")             # References keyword argument 'name'\n",
    "print(\"Weight in tons {0.weight}\")      # 'weight' attribute of first positional arg\n",
    "print(\"Units destroyed: {players[0]}\")  # First element of keyword argument 'players'.\n",
    "print('{0}, {1}, {2}'.format('a', 'b', 'c'))\n",
    "print('{}, {}, {}'.format('a', 'b', 'c'))\n",
    "print('{2}, {1}, {0}'.format('a', 'b', 'c'))\n",
    "print('{2}, {1}, {0}'.format(*'abc'))\n",
    "print('{0}{1}{0}'.format('abra', 'cad'))   # arguments' indices can be repeated\n",
    "print(\"Welcome to %s\"%(\"Python\"))\n",
    "print(\"My name is %s and my age is %d\"%(\"Annie\",22))"
   ]
  },
  {
   "cell_type": "code",
   "execution_count": 36,
   "metadata": {},
   "outputs": [
    {
     "name": "stdout",
     "output_type": "stream",
     "text": [
      "   this string is not start with other because there are couple of old values needs to replaced by new ones but this string ends with other\n",
      "   THIS STRING IS NOT START WITH OTHER BECAUSE THERE ARE COUPLE OF OLD VALUES NEEDS TO REPLACED BY NEW ONES BUT THIS STRING ENDS WITH OTHER\n",
      "This string is not start with other because there are couple of old values needs to replaced by new ones but this string ends with other\n",
      "False\n",
      "False\n",
      "False\n",
      "False\n",
      "True\n",
      "33\n",
      "   This string is not start with other because there are couple of new values needs to replaced by new ones but this string ends with other\n",
      "This string is not start with other because there are couple of old values needs to replaced by new ones but this string ends with other\n",
      "This string is not start with other because there are couple of old values needs to replaced by new ones but this string ends with other\n",
      "0\n",
      "b'This string is not start with other because there are couple of old values needs to replaced by new ones but this string ends with other'\n",
      "y\n",
      " \n",
      "This string is not start with oth--E--r because there are couple of old values needs to replaced by new ones but this string ends with other\n",
      "21\n",
      "['This', 'string', 'is', 'not', 'start', 'with', 'other', 'because', 'there', 'are', 'couple', 'of', 'old', 'values', 'needs', 'to', 'replaced', 'by', 'new', 'ones', 'but', 'this', 'string', 'ends', 'with', 'other']\n",
      "l i s t\n"
     ]
    }
   ],
   "source": [
    "# String Methods\n",
    "string_methods = '   This string is not start with other because there are couple of old values needs to replaced by new ones but this string ends with other'\n",
    "print(string_methods.lower()) \t\t\t\t\t# returns the lowercase version of the string\n",
    "print(string_methods.upper()) \t\t\t\t\t# returns the uppercase version of the string\n",
    "print(string_methods.strip()) \t\t\t\t\t# returns a string with whitespace removed from the start and end\n",
    "print(string_methods.isalpha()) \t\t\t\t# tests if all the string chars are in the various character classes\n",
    "print(string_methods.isdigit()) \t\t\t\t# tests if all the string chars are in the various character classes\n",
    "print(string_methods.isspace()) \t\t\t\t# tests if all the string chars are in the various character classes\n",
    "print(string_methods.startswith('other')) \t\t# tests if the string starts with the given other string\n",
    "print(string_methods.endswith('other')) \t\t# tests if the string ends with the given other string\n",
    "print(string_methods.find('other')) \t\t\t# searches for the given other string (not a regular expression) within string_value, and returns the first index where it begins or -1 if not found\n",
    "print(string_methods.replace('old', 'new')) \t# returns a string where all occurrences of 'old' have been replaced by 'new'\n",
    "\n",
    "string_methods = string_methods.strip()\n",
    "print(string_methods)\n",
    "print(string_methods.capitalize())\n",
    "print(string_methods.count(\"ka\", 0, len(string_methods))) # Count number of occurrences of a given substring using start and end\n",
    "\n",
    "encoded_string_methods = string_methods.encode('utf-8','strict')\n",
    "print(encoded_string_methods)\n",
    "\n",
    "print(max(string_methods))\n",
    "print(min(string_methods))\n",
    "print(string_methods.replace('e','--E--',1))\n",
    "print(string_methods.index('a')) #Return index if it finds orthewise throws error\n",
    "\n",
    "delim = ' ';\n",
    "print(string_methods.split(delim)) \t\t\t\t# returns a list of substrings separated by the given delimiter\n",
    "print(delim.join(['l', 'i', 's', 't'])) \t\t# opposite of split(), joins the elements in the given list together using the string as the delimiter"
   ]
  },
  {
   "cell_type": "code",
   "execution_count": 47,
   "metadata": {},
   "outputs": [
    {
     "name": "stdout",
     "output_type": "stream",
     "text": [
      "Below line is to demonsrate character's position in string\n",
      " H  e  l  l  o\n",
      " 0  1  2  3  4\n",
      "-5 -4 -3 -2 -1\n",
      "02468\n",
      "gnirts ni noitisop s'retcarahc etarsnomed ot si enil woleB\n",
      "low line\n",
      "17\n"
     ]
    }
   ],
   "source": [
    "# String Slices\n",
    "string_slices = ' H  e  l  l  o';\n",
    "test_string = 'Below line is to demonsrate character\\'s position in string'\n",
    "print(test_string)\n",
    "print(string_slices)\n",
    "print(' 0  1  2  3  4') \t# range(0, 5)\n",
    "print('-5 -4 -3 -2 -1') \t# range(-5, 0)\n",
    "\n",
    "# Hint for slicing is s[start:end:step]\n",
    "print('0123456789'[::2]) # Every 2nd char in string\n",
    "print(test_string[::-1]) # Reverse the string\n",
    "print(test_string[2:10])\n",
    "print(test_string.find('d'))\n"
   ]
  },
  {
   "cell_type": "code",
   "execution_count": 62,
   "metadata": {},
   "outputs": [
    {
     "name": "stdout",
     "output_type": "stream",
     "text": [
      "My full name is Albert Einstein\n",
      "I am Albert Einstein and I born in 1879\n"
     ]
    }
   ],
   "source": [
    "# Concatenation (combining strings) \n",
    "first_name = 'Albert'\n",
    "last_name = 'Einstein';\n",
    "year_of_birth = 1879\n",
    "full_name = 'My full name is ' + first_name + ' ' + last_name\n",
    "print(full_name)\n",
    "# print('I am ' + first_name + ' ' + last_name + ' and I born in ' + str(year_of_birth))\n",
    "print('I am {0} {1} and I born in {2}'.format(first_name, last_name, year_of_birth))"
   ]
  },
  {
   "cell_type": "code",
   "execution_count": null,
   "metadata": {},
   "outputs": [],
   "source": []
  },
  {
   "cell_type": "code",
   "execution_count": null,
   "metadata": {},
   "outputs": [],
   "source": []
  }
 ],
 "metadata": {
  "kernelspec": {
   "display_name": "Python 3",
   "language": "python",
   "name": "python3"
  },
  "language_info": {
   "codemirror_mode": {
    "name": "ipython",
    "version": 3
   },
   "file_extension": ".py",
   "mimetype": "text/x-python",
   "name": "python",
   "nbconvert_exporter": "python",
   "pygments_lexer": "ipython3",
   "version": "3.7.4"
  }
 },
 "nbformat": 4,
 "nbformat_minor": 2
}
